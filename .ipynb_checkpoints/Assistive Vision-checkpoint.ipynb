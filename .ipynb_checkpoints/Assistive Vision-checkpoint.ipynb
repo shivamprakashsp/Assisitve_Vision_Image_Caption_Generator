{
 "cells": [
  {
   "cell_type": "markdown",
   "id": "described-journalist",
   "metadata": {
    "id": "described-journalist"
   },
   "source": [
    "# Image Caption Generator"
   ]
  },
  {
   "cell_type": "markdown",
   "id": "absolute-limit",
   "metadata": {},
   "source": [
    "**The objective of our project is to learn the concepts of a CNN and LSTM model and build a working model of Image caption generator by implementing CNN with LSTM.**\n",
    "\n",
    "**In this Python project, we will be implementing the caption generator using CNN (Convolutional Neural Networks) and LSTM (Long short term memory). The image features will be extracted from VGG16 which is a CNN model trained on the imagenet dataset and then we feed the features into the LSTM model which will be responsible for generating the image captions.**\n",
    "\n",
    "**The Dataset** - For this image caption generator, we will be using the Flickr_8K dataset. "
   ]
  },
  {
   "cell_type": "markdown",
   "id": "successful-catholic",
   "metadata": {},
   "source": [
    "![About Model](model_preview/model_preview.png)\n",
    "    "
   ]
  },
  {
   "cell_type": "code",
   "execution_count": 7,
   "id": "western-hobby",
   "metadata": {
    "id": "western-hobby"
   },
   "outputs": [],
   "source": [
    "#Import Necessary Libraries\n",
    "from os import listdir\n",
    "from pickle import dump, load\n",
    "from keras.applications.vgg16 import VGG16\n",
    "from keras.preprocessing.image import load_img\n",
    "from keras.preprocessing.image import img_to_array\n",
    "from keras.applications.vgg16 import preprocess_input\n",
    "from keras.models import Model\n",
    "import numpy as np\n",
    "from numpy import array"
   ]
  },
  {
   "cell_type": "code",
   "execution_count": 24,
   "id": "fitting-investigation",
   "metadata": {},
   "outputs": [],
   "source": [
    "## Surpress Tensorflow Warnings\n",
    "import tensorflow as tf\n",
    "tf.compat.v1.logging.set_verbosity(tf.compat.v1.logging.ERROR)\n"
   ]
  },
  {
   "cell_type": "markdown",
   "id": "illegal-deviation",
   "metadata": {
    "id": "illegal-deviation"
   },
   "source": [
    "### VGG16\n",
    "\n",
    "Using VGG16 as its relatively small and can work fast.\n",
    "\n",
    "- Removing the last layer as we are interested in emebbeding and not in classification"
   ]
  },
  {
   "cell_type": "code",
   "execution_count": null,
   "id": "professional-dollar",
   "metadata": {
    "colab": {
     "base_uri": "https://localhost:8080/"
    },
    "id": "professional-dollar",
    "outputId": "431b2568-782e-4b48-f78c-b106db68e2f9"
   },
   "outputs": [
    {
     "name": "stdout",
     "output_type": "stream",
     "text": [
      "Downloading data from https://storage.googleapis.com/tensorflow/keras-applications/vgg16/vgg16_weights_tf_dim_ordering_tf_kernels.h5\n",
      "553467904/553467096 [==============================] - 5s 0us/step\n",
      "Model: \"model\"\n",
      "_________________________________________________________________\n",
      "Layer (type)                 Output Shape              Param #   \n",
      "=================================================================\n",
      "input_1 (InputLayer)         [(None, 224, 224, 3)]     0         \n",
      "_________________________________________________________________\n",
      "block1_conv1 (Conv2D)        (None, 224, 224, 64)      1792      \n",
      "_________________________________________________________________\n",
      "block1_conv2 (Conv2D)        (None, 224, 224, 64)      36928     \n",
      "_________________________________________________________________\n",
      "block1_pool (MaxPooling2D)   (None, 112, 112, 64)      0         \n",
      "_________________________________________________________________\n",
      "block2_conv1 (Conv2D)        (None, 112, 112, 128)     73856     \n",
      "_________________________________________________________________\n",
      "block2_conv2 (Conv2D)        (None, 112, 112, 128)     147584    \n",
      "_________________________________________________________________\n",
      "block2_pool (MaxPooling2D)   (None, 56, 56, 128)       0         \n",
      "_________________________________________________________________\n",
      "block3_conv1 (Conv2D)        (None, 56, 56, 256)       295168    \n",
      "_________________________________________________________________\n",
      "block3_conv2 (Conv2D)        (None, 56, 56, 256)       590080    \n",
      "_________________________________________________________________\n",
      "block3_conv3 (Conv2D)        (None, 56, 56, 256)       590080    \n",
      "_________________________________________________________________\n",
      "block3_pool (MaxPooling2D)   (None, 28, 28, 256)       0         \n",
      "_________________________________________________________________\n",
      "block4_conv1 (Conv2D)        (None, 28, 28, 512)       1180160   \n",
      "_________________________________________________________________\n",
      "block4_conv2 (Conv2D)        (None, 28, 28, 512)       2359808   \n",
      "_________________________________________________________________\n",
      "block4_conv3 (Conv2D)        (None, 28, 28, 512)       2359808   \n",
      "_________________________________________________________________\n",
      "block4_pool (MaxPooling2D)   (None, 14, 14, 512)       0         \n",
      "_________________________________________________________________\n",
      "block5_conv1 (Conv2D)        (None, 14, 14, 512)       2359808   \n",
      "_________________________________________________________________\n",
      "block5_conv2 (Conv2D)        (None, 14, 14, 512)       2359808   \n",
      "_________________________________________________________________\n",
      "block5_conv3 (Conv2D)        (None, 14, 14, 512)       2359808   \n",
      "_________________________________________________________________\n",
      "block5_pool (MaxPooling2D)   (None, 7, 7, 512)         0         \n",
      "_________________________________________________________________\n",
      "flatten (Flatten)            (None, 25088)             0         \n",
      "_________________________________________________________________\n",
      "fc1 (Dense)                  (None, 4096)              102764544 \n",
      "_________________________________________________________________\n",
      "fc2 (Dense)                  (None, 4096)              16781312  \n",
      "=================================================================\n",
      "Total params: 134,260,544\n",
      "Trainable params: 134,260,544\n",
      "Non-trainable params: 0\n",
      "_________________________________________________________________\n",
      "None\n"
     ]
    }
   ],
   "source": [
    "model = VGG16()\n",
    "# re-structure the model\n",
    "model = Model(inputs=model.inputs, outputs=model.layers[-2].output)\n",
    "model.layers.pop()\n",
    "\n",
    "print(model.summary())\n",
    "\n"
   ]
  },
  {
   "cell_type": "markdown",
   "id": "allied-israel",
   "metadata": {},
   "source": [
    "### Extracting the feature vector from all images \n",
    "\n",
    "This technique is also called transfer learning, we don’t have to do everything on our own, we use the pre-trained model that have been already trained on large datasets and extract the features from these models and use them for our tasks. We are using the VGG16 model which has been trained on imagenet dataset that had 1000 different classes to classify. We can directly import this model from the keras.applications . Make sure you are connected to the internet as the weights get automatically downloaded. Since the VGG16 model was originally built for imagenet, we will do little changes for integrating with our model. One thing to notice is that the model takes 224x224x3 image size as input. We will remove the last classification layer and get the 2048 feature vector.\n",
    "\n",
    "      model = Model(inputs=model.inputs, outputs=model.layers[-2].output)\n",
    "\n",
    "The function extract_features() will extract features for all images and we will map image names with their respective feature array. Then we will dump the features dictionary into a “features.pkl” pickle file."
   ]
  },
  {
   "cell_type": "code",
   "execution_count": null,
   "id": "crazy-membership",
   "metadata": {
    "id": "crazy-membership",
    "scrolled": true
   },
   "outputs": [],
   "source": [
    "# extract features from each photo in the directory\n",
    "def extract_features(directory):\n",
    "    # load the model\n",
    "    model = VGG16()\n",
    "    # re-structure the model\n",
    "    model = Model(inputs=model.inputs, outputs=model.layers[-2].output)\n",
    "    # extract features from each photo\n",
    "    features = dict()\n",
    "    i =1\n",
    "    for name in listdir(directory):\n",
    "        # load an image from file\n",
    "        filename = directory + '/' + name\n",
    "        image = load_img(filename, target_size=(224, 224))\n",
    "        # convert the image pixels to a numpy array\n",
    "        image = img_to_array(image)\n",
    "        # reshape data for the model\n",
    "        image = image.reshape((1, image.shape[0], image.shape[1], image.shape[2]))\n",
    "        # prepare the image for the VGG model\n",
    "        image = preprocess_input(image)\n",
    "        # get features\n",
    "        feature = model.predict(image, verbose=0)\n",
    "        # get image id\n",
    "        image_id = name.split('.')[0]\n",
    "        # store feature\n",
    "        features[image_id] = feature\n",
    "        print(i,\"/8091 done\")\n",
    "        i=i+1\n",
    "    return features\n",
    "\n"
   ]
  },
  {
   "cell_type": "markdown",
   "id": "moderate-adapter",
   "metadata": {
    "id": "moderate-adapter"
   },
   "source": [
    "Extracting features and saving the model for further training"
   ]
  },
  {
   "cell_type": "code",
   "execution_count": null,
   "id": "talented-correlation",
   "metadata": {
    "id": "talented-correlation"
   },
   "outputs": [],
   "source": [
    "# extract features from all images\n",
    "directory = 'archive/Images'\n",
    "features = extract_features(directory)\n",
    "# save to file\n",
    "dump(features, open('features.pkl', 'wb'))\n",
    "\n",
    "print('Extracted Features: %d' % len(features))\n"
   ]
  },
  {
   "cell_type": "markdown",
   "id": "piano-annex",
   "metadata": {
    "id": "piano-annex"
   },
   "source": [
    "#### Loading the captions \n",
    "\n",
    "    load_doc( filename ) – For loading the document file and reading the contents inside the file into a string."
   ]
  },
  {
   "cell_type": "code",
   "execution_count": 1,
   "id": "unable-surfing",
   "metadata": {
    "colab": {
     "base_uri": "https://localhost:8080/"
    },
    "id": "unable-surfing",
    "outputId": "80e837d6-85ad-4453-8eb0-75e8136e5ef0"
   },
   "outputs": [
    {
     "name": "stdout",
     "output_type": "stream",
     "text": [
      "['1000268201_693b08cb0e.jpg#0', 'A child in a pink dress is climbing up a set of stairs in an entry way .']\n",
      "['1000268201_693b08cb0e.jpg#1', 'A girl going into a wooden building .']\n",
      "['1000268201_693b08cb0e.jpg#2', 'A little girl climbing into a wooden playhouse .']\n",
      "['1000268201_693b08cb0e.jpg#3', 'A little girl climbing the stairs to her playhouse .']\n",
      "['1000268201_693b08cb0e.jpg#4', 'A little girl in a pink dress going into a wooden cabin .']\n"
     ]
    }
   ],
   "source": [
    "def load_doc(filename):\n",
    "    # Opening the file as read only\n",
    "    file = open(filename, 'r')\n",
    "    text = file.read()\n",
    "    file.close()\n",
    "    return text\n",
    "\n",
    "text = load_doc('Flickr8k_text/Flickr8k.token.txt')\n",
    "\n",
    "#lets get the preview of the caption file\n",
    "head   = text.split('\\n')[:5]\n",
    "\n",
    "for captions in head:\n",
    "    tokens = captions.split(\"\\t\")\n",
    "    print(tokens[:5])"
   ]
  },
  {
   "cell_type": "markdown",
   "id": "funded-disorder",
   "metadata": {},
   "source": [
    "### Getting and performing data cleaning\n",
    "\n",
    "The format of our file is image and caption separated by a new line (“\\n”).\n",
    "\n",
    "Each image has 5 captions and we can see that #(0 to 5)number is assigned for each caption.\n",
    "\n",
    "We will define 4 functions\n",
    "\n",
    "    load_descriptions(doc) - This function will create a descriptions dictionary that maps images with a list of 5 captions.\n",
    "    \n",
    "    cleaning_descriptions( descriptions) – This function takes all descriptions and performs data cleaning. This is an important step when we work with textual data, according to our goal, we decide what type of cleaning we want to perform on the text. In our case, we will be removing punctuations, converting all text to lowercase and removing words that contain numbers.\n",
    "    So, a caption like “A man riding on a three-wheeled wheelchair” will be transformed into “man riding on three wheeled wheelchair”\n",
    "    \n",
    "    to_vocabulary( descriptions ) – This is a simple function that will separate all the unique words and create the vocabulary from all the descriptions.\n",
    "    \n",
    "    save_descriptions( descriptions, filename ) – This function will create a list of all the descriptions that have been preprocessed and store them into a file. We will create a descriptions.txt file to store all the captions."
   ]
  },
  {
   "cell_type": "code",
   "execution_count": 2,
   "id": "equal-transcript",
   "metadata": {
    "id": "equal-transcript"
   },
   "outputs": [],
   "source": [
    "import string\n",
    "\n",
    "# extract descriptions for images\n",
    "\n",
    "def load_descriptions(doc):\n",
    "    mapping = dict()\n",
    "    # process lines\n",
    "    for line in doc.split('\\n'):\n",
    "        # split line by white space\n",
    "        tokens = line.split()\n",
    "        if len(line) < 2:\n",
    "            continue\n",
    "        # take the first token as the image id, the rest as the description\n",
    "        image_id, image_desc = tokens[0], tokens[1:]\n",
    "        # remove filename from image id\n",
    "        image_id = image_id.split('.')[0]\n",
    "        # convert description tokens back to string\n",
    "        image_desc = ' '.join(image_desc)\n",
    "        # create the list if needed\n",
    "        if image_id not in mapping:\n",
    "            mapping[image_id] = list()\n",
    "        # store description\n",
    "        mapping[image_id].append(image_desc)\n",
    "    return mapping\n",
    "\n",
    "def clean_descriptions(descriptions):\n",
    "    # prepare translation table for removing punctuation\n",
    "    table = str.maketrans('', '', string.punctuation)\n",
    "    for key, desc_list in descriptions.items():\n",
    "        for i in range(len(desc_list)):\n",
    "            desc = desc_list[i]\n",
    "            # tokenize\n",
    "            desc = desc.split()\n",
    "            # convert to lower case\n",
    "            desc = [word.lower() for word in desc]\n",
    "            # remove punctuation from each token\n",
    "            desc = [w.translate(table) for w in desc]\n",
    "            # remove hanging 's' and 'a'\n",
    "            desc = [word for word in desc if len(word)>1]\n",
    "            # remove tokens with numbers in them\n",
    "            desc = [word for word in desc if word.isalpha()]\n",
    "            # store as string\n",
    "            desc_list[i] =  ' '.join(desc)\n",
    "\n",
    "# convert the loaded descriptions into a vocabulary of words\n",
    "def to_vocabulary(descriptions):\n",
    "    # build a list of all description strings\n",
    "    all_desc = set()\n",
    "    for key in descriptions.keys():\n",
    "        [all_desc.update(d.split()) for d in descriptions[key]]\n",
    "    return all_desc\n",
    "\n",
    "# save descriptions to file, one per line\n",
    "def save_descriptions(descriptions, filename):\n",
    "    lines = list()\n",
    "    for key, desc_list in descriptions.items():\n",
    "        for desc in desc_list:\n",
    "            lines.append(key + ' ' + desc)\n",
    "    data = '\\n'.join(lines)\n",
    "    file = open(filename, 'w')\n",
    "    file.write(data)\n",
    "    file.close()"
   ]
  },
  {
   "cell_type": "code",
   "execution_count": 3,
   "id": "acting-studio",
   "metadata": {
    "colab": {
     "base_uri": "https://localhost:8080/"
    },
    "id": "acting-studio",
    "outputId": "04b2a526-7cdf-4be7-bba5-abd29eecad79"
   },
   "outputs": [
    {
     "name": "stdout",
     "output_type": "stream",
     "text": [
      "Loaded: 8092 \n",
      "Vocabulary Size: 8763\n"
     ]
    }
   ],
   "source": [
    "# clean descriptions\n",
    "descriptions = load_descriptions(text)\n",
    "print('Loaded: %d ' % len(descriptions))\n",
    "\n",
    "clean_descriptions(descriptions)\n",
    "\n",
    "# summarize vocabulary\n",
    "vocabulary = to_vocabulary(descriptions)\n",
    "print('Vocabulary Size: %d' % len(vocabulary))\n",
    "# save to file\n",
    "save_descriptions(descriptions, 'descriptions.txt')"
   ]
  },
  {
   "cell_type": "markdown",
   "id": "worthy-regular",
   "metadata": {
    "id": "worthy-regular"
   },
   "source": [
    "### Loading dataset for Training the model\n",
    " \n",
    " Loading dataset for Training the model\n",
    "\n",
    "In our Flickr_8k_test folder, we have Flickr_8k.trainImages.txt file that contains a list of 6000 image names that we will use for training.\n",
    "\n",
    "For loading the training dataset, we need more functions:\n",
    "\n",
    "    load_photos( filename ) – This will load the text file in a string and will return the list of image names.\n",
    "    \n",
    "    load_clean_descriptions( filename, photos ) – This function will create a dictionary that contains captions for each photo from the list of photos. We also append the startseq and endseq identifier for each caption. We need this so that our LSTM model can identify the starting and ending of the caption.\n",
    "    \n",
    "    load_features(photos) – This function will give us the dictionary for image names and their feature vector which we have previously extracted from the Xception model."
   ]
  },
  {
   "cell_type": "code",
   "execution_count": 4,
   "id": "acting-elements",
   "metadata": {
    "id": "acting-elements"
   },
   "outputs": [],
   "source": [
    "def load_photos(filename):\n",
    "    doc = load_doc(filename)\n",
    "    dataset = list()\n",
    "    # process line by line\n",
    "    for line in doc.split('\\n'):\n",
    "        # skip empty lines\n",
    "        if len(line) < 1:\n",
    "            continue\n",
    "        # get the image identifier\n",
    "        identifier = line.split('.')[0]\n",
    "        dataset.append(identifier)\n",
    "    return set(dataset)\n",
    "def load_clean_descriptions(filename, dataset):\n",
    "    # load document\n",
    "    doc = load_doc(filename)\n",
    "    descriptions = dict()\n",
    "    for line in doc.split('\\n'):\n",
    "        # split line by white space\n",
    "        tokens = line.split()\n",
    "        # split id from description\n",
    "        image_id, image_desc = tokens[0], tokens[1:]\n",
    "        # skip images not in the set\n",
    "        if image_id in dataset:\n",
    "            # create list\n",
    "            if image_id not in descriptions:\n",
    "                descriptions[image_id] = list()\n",
    "            # wrap description in tokens\n",
    "            desc = 'startseq ' + ' '.join(image_desc) + ' endseq'\n",
    "            # store\n",
    "            descriptions[image_id].append(desc)\n",
    "    return descriptions\n",
    "def load_features(photos):\n",
    "    #loading all features\n",
    "    all_features = load(open(\"features.pkl\",\"rb\"))\n",
    "    #selecting only needed features\n",
    "    features = {k:all_features[k] for k in photos}\n",
    "    return features\n"
   ]
  },
  {
   "cell_type": "code",
   "execution_count": 8,
   "id": "formal-layout",
   "metadata": {
    "id": "formal-layout"
   },
   "outputs": [],
   "source": [
    "filename =\"Flickr8k_text/Flickr_8k.trainImages.txt\"\n",
    "#train = loading_data(filename)\n",
    "train_imgs = load_photos(filename)\n",
    "train_descriptions = load_clean_descriptions(\"descriptions.txt\", train_imgs)\n",
    "train_features = load_features(train_imgs)"
   ]
  },
  {
   "cell_type": "markdown",
   "id": "impressed-bread",
   "metadata": {},
   "source": [
    "### Tokenizing the vocabulary \n",
    "\n",
    "Computers don’t understand English words, for computers, we will have to represent them with numbers. So, we will map each word of the vocabulary with a unique index value. Keras library provides us with the tokenizer function that we will use to create tokens from our vocabulary and save them to a “tokenizer.p” pickle file."
   ]
  },
  {
   "cell_type": "code",
   "execution_count": 10,
   "id": "quality-heart",
   "metadata": {
    "colab": {
     "base_uri": "https://localhost:8080/"
    },
    "id": "quality-heart",
    "outputId": "d92d7a48-169e-4b69-f8c5-80272df49753"
   },
   "outputs": [
    {
     "data": {
      "text/plain": [
       "7579"
      ]
     },
     "execution_count": 10,
     "metadata": {},
     "output_type": "execute_result"
    }
   ],
   "source": [
    "# covert a dictionary of clean descriptions to a list of descriptions\n",
    "def to_lines(descriptions):\n",
    "    all_desc = list()\n",
    "    for key in descriptions.keys():\n",
    "        [all_desc.append(d) for d in descriptions[key]]\n",
    "    return all_desc\n",
    "\n",
    "\n",
    "#converting dictionary to clean list of descriptions\n",
    "def dict_to_list(descriptions):\n",
    "    all_desc = []\n",
    "    for key in descriptions.keys():\n",
    "        [all_desc.append(d) for d in descriptions[key]]\n",
    "    return all_desc\n",
    "#creating tokenizer class \n",
    "#this will vectorise text corpus\n",
    "#each integer will represent token in dictionary\n",
    "from keras.preprocessing.text import Tokenizer\n",
    "def create_tokenizer(descriptions):\n",
    "    lines = to_lines(descriptions)\n",
    "    tokenizer = Tokenizer()\n",
    "    tokenizer.fit_on_texts(lines)\n",
    "    return tokenizer\n",
    "# give each word an index, and store that into tokenizer.p pickle file\n",
    "tokenizer = create_tokenizer(train_descriptions)\n",
    "dump(tokenizer, open('tokenizer.p', 'wb'))\n",
    "vocab_size = len(tokenizer.word_index) + 1\n",
    "vocab_size"
   ]
  },
  {
   "cell_type": "markdown",
   "id": "second-patio",
   "metadata": {},
   "source": [
    "**We calculate the maximum length of the descriptions. This is important for deciding the model structure parameters. Max_length of description is 34.**"
   ]
  },
  {
   "cell_type": "code",
   "execution_count": 13,
   "id": "minor-easter",
   "metadata": {},
   "outputs": [
    {
     "name": "stdout",
     "output_type": "stream",
     "text": [
      "Description Length: 34\n"
     ]
    }
   ],
   "source": [
    "#calculate maximum length of descriptions\n",
    "def max_length(descriptions):\n",
    "    desc_list = dict_to_list(descriptions)\n",
    "    return max(len(d.split()) for d in desc_list)\n",
    "\n",
    "\n",
    "# determine the maximum sequence length\n",
    "maxlength = max_length(train_descriptions)\n",
    "print('Description Length: %d' % maxlength)"
   ]
  },
  {
   "cell_type": "markdown",
   "id": "immune-bulgaria",
   "metadata": {},
   "source": [
    "### Create Data generator\n",
    "\n",
    "Let us first see how the input and output of our model will look like. To make this task into a supervised learning task, we have to provide input and output to the model for training. We have to train our model on 6000 images and each image will contain 4096 length feature vector and caption is also represented as numbers. This amount of data for 6000 images is not possible to hold into memory so we will be using a generator method that will yield batches.\n",
    "\n",
    "The generator will yield the input and output sequence.\n",
    "\n",
    "For example:\n",
    "\n",
    "The input to our model is [x1, x2] and the output will be y, where x1 is the 4096 feature vector of that image, x2 is the input text sequence and y is the output text sequence that the model has to predict."
   ]
  },
  {
   "cell_type": "markdown",
   "id": "powerful-academy",
   "metadata": {},
   "source": [
    "![Train_data_preview](model_preview/seq.png)\n"
   ]
  },
  {
   "cell_type": "code",
   "execution_count": 10,
   "id": "cheap-virgin",
   "metadata": {
    "id": "cheap-virgin"
   },
   "outputs": [],
   "source": [
    "from keras.preprocessing.sequence import pad_sequences\n",
    "from keras.utils import to_categorical\n",
    "\n",
    "def create_sequences(tokenizer, max_length, desc_list, feature):\n",
    "    X1, X2, y = list(), list(), list()\n",
    "    # walk through each description for the image\n",
    "    for desc in desc_list:\n",
    "        # encode the sequence\n",
    "        seq = tokenizer.texts_to_sequences([desc])[0]\n",
    "        # split one sequence into multiple X,y pairs\n",
    "        for i in range(1, len(seq)):\n",
    "            # split into input and output pair\n",
    "            in_seq, out_seq = seq[:i], seq[i]\n",
    "            # pad input sequence\n",
    "            in_seq = pad_sequences([in_seq], maxlen=max_length)[0]\n",
    "            # encode output sequence\n",
    "            out_seq = to_categorical([out_seq], num_classes=vocab_size)[0]\n",
    "            # store\n",
    "            X1.append(feature)\n",
    "            X2.append(in_seq)\n",
    "            y.append(out_seq)\n",
    "    return np.array(X1), np.array(X2), np.array(y)\n",
    "def data_generator(descriptions, photos, tokenizer, max_length):\n",
    "    # loop for ever over images\n",
    "    while 1:\n",
    "        for key, desc_list in descriptions.items():\n",
    "            # retrieve the photo feature\n",
    "            photo = photos[key][0]\n",
    "            in_img, in_seq, out_word = create_sequences(tokenizer, max_length, desc_list, photo)\n",
    "            yield ([in_img, in_seq], out_word)"
   ]
  },
  {
   "cell_type": "code",
   "execution_count": 15,
   "id": "waiting-proxy",
   "metadata": {
    "colab": {
     "base_uri": "https://localhost:8080/"
    },
    "id": "waiting-proxy",
    "outputId": "d275de12-a8e6-4da9-cecf-292cb4b2f929"
   },
   "outputs": [
    {
     "data": {
      "text/plain": [
       "((47, 4096), (47, 34), (47, 7577))"
      ]
     },
     "execution_count": 15,
     "metadata": {},
     "output_type": "execute_result"
    }
   ],
   "source": [
    "[a,b],c = next(data_generator(train_descriptions, train_features, tokenizer, maxlength))\n",
    "a.shape, b.shape, c.shape"
   ]
  },
  {
   "cell_type": "code",
   "execution_count": 14,
   "id": "hazardous-steering",
   "metadata": {
    "colab": {
     "base_uri": "https://localhost:8080/"
    },
    "id": "hazardous-steering",
    "outputId": "c6d66976-172a-42cf-d839-7b2a6a98df98"
   },
   "outputs": [
    {
     "name": "stdout",
     "output_type": "stream",
     "text": [
      "Dataset: 6000\n",
      "Descriptions: train=6000\n",
      "Photos: train=6000\n",
      "Vocabulary Size: 7579\n",
      "Description Length: 34\n"
     ]
    }
   ],
   "source": [
    "# load training dataset (6K)\n",
    "filename = 'Flickr8k_text/Flickr_8k.trainImages.txt'\n",
    "train = load_photos(filename)\n",
    "print('Dataset: %d' % len(train))\n",
    "# descriptions\n",
    "train_descriptions = load_clean_descriptions('descriptions.txt', train)\n",
    "print('Descriptions: train=%d' % len(train_descriptions))\n",
    "# photo features\n",
    "train_features = load_features(train)\n",
    "print('Photos: train=%d' % len(train_features))\n",
    "# prepare tokenizer\n",
    "tokenizer = create_tokenizer(train_descriptions)\n",
    "vocab_size = len(tokenizer.word_index) + 1\n",
    "print('Vocabulary Size: %d' % vocab_size)\n",
    "# determine the maximum sequence length\n",
    "maxlength = max_length(train_descriptions)\n",
    "print('Description Length: %d' % maxlength)"
   ]
  },
  {
   "cell_type": "markdown",
   "id": "optional-index",
   "metadata": {},
   "source": [
    "### Defining the CNN-RNN model\n",
    "\n",
    "To define the structure of the model, we will be using the Keras Model from Functional API. It will consist of three major parts:\n",
    "\n",
    "- Feature Extractor – The feature extracted from the image has a size of 4096, with a dense layer, we will reduce the dimensions to 256 nodes.\n",
    "\n",
    "- Sequence Processor – An embedding layer will handle the textual input, followed by the LSTM layer.\n",
    "\n",
    "- Decoder – By merging the output from the above two layers, we will process by the dense layer to make the final prediction. The final layer will contain the number of nodes equal to our vocabulary size."
   ]
  },
  {
   "cell_type": "markdown",
   "id": "sunrise-looking",
   "metadata": {},
   "source": [
    "![model_preview](model_preview/model_rnn_cnn.png)\n"
   ]
  },
  {
   "cell_type": "code",
   "execution_count": 59,
   "id": "impaired-camping",
   "metadata": {
    "id": "impaired-camping"
   },
   "outputs": [],
   "source": [
    "from keras.utils import plot_model\n",
    "from keras.models import Model\n",
    "from keras.layers import Input\n",
    "from keras.layers import Dense\n",
    "from keras.layers import LSTM\n",
    "from keras.layers import Bidirectional\n",
    "\n",
    "from keras.layers import Embedding\n",
    "from keras.layers import Dropout\n",
    "from keras.layers.merge import add\n",
    "from keras.callbacks import ModelCheckpoint\n",
    "\n",
    "def define_model(vocab_size, max_length):\n",
    "    # feature extractor model\n",
    "    inputs1 = Input(4096,)\n",
    "    fe1 = Dropout(0.5)(inputs1)\n",
    "    fe2 = Dense(256, activation='relu')(fe1)\n",
    "    # sequence model\n",
    "    inputs2 = Input(max_length,)\n",
    "    se1 = Embedding(vocab_size, 256, mask_zero=True)(inputs2)\n",
    "    se2 = Dropout(0.5)(se1)\n",
    "    se3 = LSTM(256)(se2)\n",
    "    # decoder model\n",
    "    decoder1 = add([fe2, se3])\n",
    "    decoder2 = Dense(256, activation='relu')(decoder1)\n",
    "    outputs = Dense(vocab_size, activation='softmax')(decoder2)\n",
    "    # tie it together [image, seq] [word]\n",
    "    model = Model(inputs=[inputs1, inputs2], outputs=outputs)\n",
    "    model.compile(loss='categorical_crossentropy', optimizer='adam')\n",
    "    # summarize model\n",
    "    print(model.summary())\n",
    "    print(plot_model(model, to_file='model.png', show_shapes=True))\n",
    "\n",
    "    return model"
   ]
  },
  {
   "cell_type": "code",
   "execution_count": 60,
   "id": "surprised-consensus",
   "metadata": {
    "colab": {
     "base_uri": "https://localhost:8080/"
    },
    "id": "surprised-consensus",
    "outputId": "0e31335e-6673-4a56-fb40-a3ffca8530ee"
   },
   "outputs": [
    {
     "name": "stdout",
     "output_type": "stream",
     "text": [
      "Model: \"model_16\"\n",
      "__________________________________________________________________________________________________\n",
      "Layer (type)                    Output Shape         Param #     Connected to                     \n",
      "==================================================================================================\n",
      "input_34 (InputLayer)           [(None, 34)]         0                                            \n",
      "__________________________________________________________________________________________________\n",
      "input_33 (InputLayer)           [(None, 4096)]       0                                            \n",
      "__________________________________________________________________________________________________\n",
      "embedding_16 (Embedding)        (None, 34, 256)      1940224     input_34[0][0]                   \n",
      "__________________________________________________________________________________________________\n",
      "dropout_32 (Dropout)            (None, 4096)         0           input_33[0][0]                   \n",
      "__________________________________________________________________________________________________\n",
      "dropout_33 (Dropout)            (None, 34, 256)      0           embedding_16[0][0]               \n",
      "__________________________________________________________________________________________________\n",
      "dense_48 (Dense)                (None, 256)          1048832     dropout_32[0][0]                 \n",
      "__________________________________________________________________________________________________\n",
      "lstm_16 (LSTM)                  (None, 256)          525312      dropout_33[0][0]                 \n",
      "__________________________________________________________________________________________________\n",
      "add_16 (Add)                    (None, 256)          0           dense_48[0][0]                   \n",
      "                                                                 lstm_16[0][0]                    \n",
      "__________________________________________________________________________________________________\n",
      "dense_49 (Dense)                (None, 256)          65792       add_16[0][0]                     \n",
      "__________________________________________________________________________________________________\n",
      "dense_50 (Dense)                (None, 7579)         1947803     dense_49[0][0]                   \n",
      "==================================================================================================\n",
      "Total params: 5,527,963\n",
      "Trainable params: 5,527,963\n",
      "Non-trainable params: 0\n",
      "__________________________________________________________________________________________________\n",
      "None\n",
      "<IPython.core.display.Image object>\n"
     ]
    }
   ],
   "source": [
    "model = define_model(vocab_size, maxlength)\n"
   ]
  },
  {
   "cell_type": "markdown",
   "id": "sufficient-prayer",
   "metadata": {},
   "source": [
    "### Training the model\n",
    "\n",
    "To train the model, we will be using the 6000 training images by generating the input and output sequences in batches and fitting them to the model using model.fit_generator() method. We also save the model to our models folder. This will take some time depending on your system capability."
   ]
  },
  {
   "cell_type": "code",
   "execution_count": 62,
   "id": "soviet-duration",
   "metadata": {
    "colab": {
     "base_uri": "https://localhost:8080/"
    },
    "id": "soviet-duration",
    "outputId": "8b4f77a7-1fd5-4919-9509-29f4e8d89fb4"
   },
   "outputs": [
    {
     "name": "stdout",
     "output_type": "stream",
     "text": [
      "Model: \"model_18\"\n",
      "__________________________________________________________________________________________________\n",
      "Layer (type)                    Output Shape         Param #     Connected to                     \n",
      "==================================================================================================\n",
      "input_38 (InputLayer)           [(None, 34)]         0                                            \n",
      "__________________________________________________________________________________________________\n",
      "input_37 (InputLayer)           [(None, 4096)]       0                                            \n",
      "__________________________________________________________________________________________________\n",
      "embedding_18 (Embedding)        (None, 34, 256)      1940224     input_38[0][0]                   \n",
      "__________________________________________________________________________________________________\n",
      "dropout_36 (Dropout)            (None, 4096)         0           input_37[0][0]                   \n",
      "__________________________________________________________________________________________________\n",
      "dropout_37 (Dropout)            (None, 34, 256)      0           embedding_18[0][0]               \n",
      "__________________________________________________________________________________________________\n",
      "dense_54 (Dense)                (None, 256)          1048832     dropout_36[0][0]                 \n",
      "__________________________________________________________________________________________________\n",
      "lstm_18 (LSTM)                  (None, 256)          525312      dropout_37[0][0]                 \n",
      "__________________________________________________________________________________________________\n",
      "add_18 (Add)                    (None, 256)          0           dense_54[0][0]                   \n",
      "                                                                 lstm_18[0][0]                    \n",
      "__________________________________________________________________________________________________\n",
      "dense_55 (Dense)                (None, 256)          65792       add_18[0][0]                     \n",
      "__________________________________________________________________________________________________\n",
      "dense_56 (Dense)                (None, 7579)         1947803     dense_55[0][0]                   \n",
      "==================================================================================================\n",
      "Total params: 5,527,963\n",
      "Trainable params: 5,527,963\n",
      "Non-trainable params: 0\n",
      "__________________________________________________________________________________________________\n",
      "None\n",
      "<IPython.core.display.Image object>\n"
     ]
    },
    {
     "name": "stderr",
     "output_type": "stream",
     "text": [
      "/usr/local/lib/python3.7/dist-packages/tensorflow/python/keras/engine/training.py:1844: UserWarning: `Model.fit_generator` is deprecated and will be removed in a future version. Please use `Model.fit`, which supports generators.\n",
      "  warnings.warn('`Model.fit_generator` is deprecated and '\n"
     ]
    },
    {
     "name": "stdout",
     "output_type": "stream",
     "text": [
      "6000/6000 [==============================] - 854s 142ms/step - loss: 5.1474\n",
      "6000/6000 [==============================] - 839s 140ms/step - loss: 3.9163\n",
      "6000/6000 [==============================] - 843s 140ms/step - loss: 3.6511\n",
      "6000/6000 [==============================] - 856s 143ms/step - loss: 3.5121\n",
      "6000/6000 [==============================] - 856s 143ms/step - loss: 3.4212\n",
      "6000/6000 [==============================] - 855s 142ms/step - loss: 3.3421\n",
      "6000/6000 [==============================] - 856s 143ms/step - loss: 3.2931\n",
      "6000/6000 [==============================] - 857s 143ms/step - loss: 3.2516\n",
      "6000/6000 [==============================] - 858s 143ms/step - loss: 3.2285\n",
      "6000/6000 [==============================] - 851s 142ms/step - loss: 3.2003\n",
      "6000/6000 [==============================] - 854s 142ms/step - loss: 3.1825\n",
      "6000/6000 [==============================] - 855s 143ms/step - loss: 3.1648\n",
      "6000/6000 [==============================] - 852s 142ms/step - loss: 3.1501\n",
      "6000/6000 [==============================] - 847s 141ms/step - loss: 3.1417\n",
      "6000/6000 [==============================] - 852s 142ms/step - loss: 3.1355\n",
      "6000/6000 [==============================] - 853s 142ms/step - loss: 3.1264\n",
      "6000/6000 [==============================] - 853s 142ms/step - loss: 3.1213\n",
      "6000/6000 [==============================] - 848s 141ms/step - loss: 3.1206\n",
      "6000/6000 [==============================] - 844s 141ms/step - loss: 3.1086\n",
      "6000/6000 [==============================] - 850s 142ms/step - loss: 3.1090\n"
     ]
    }
   ],
   "source": [
    "# train the model\n",
    "model = define_model(vocab_size, max_length)\n",
    "# train the model, run epochs manually and save after each epoch\n",
    "epochs = 20\n",
    "steps = len(train_descriptions)\n",
    "for i in range(epochs):\n",
    "    # create the data generator\n",
    "    generator = data_generator(train_descriptions, train_features, tokenizer, max_length)\n",
    "    # fit for one epoch\n",
    "    model.fit_generator(generator, epochs=1, steps_per_epoch=steps, verbose=1)\n",
    "    # save model\n",
    "    model.save('model_' + str(i) + '.h5')"
   ]
  },
  {
   "cell_type": "markdown",
   "id": "mechanical-portland",
   "metadata": {},
   "source": [
    "### Testing the model\n",
    "\n",
    "The model has been trained, now, we will  load the model and generate predictions. The predictions contain the max length of index values so we will use the same tokenizer.p pickle file to get the words from their index values.\n",
    "\n",
    "### Model Evaluation \n",
    "\n",
    "Individual N-gram score \n",
    "\n",
    "- An individual N-gram score is the evaluation of just matching grams of a specific order, such as single words (1-gram) or word pairs (2-gram or bigram).\n",
    "\n",
    "- The weights are specified as a tuple where each index refers to the gram order. To calculate the BLEU score only for 1-gram matches, you can specify a weight of 1 for 1-gram and 0 for 2, 3 and 4 (1, 0, 0, 0). "
   ]
  },
  {
   "cell_type": "code",
   "execution_count": 3,
   "id": "magnetic-reporter",
   "metadata": {},
   "outputs": [],
   "source": [
    "from numpy import argmax\n",
    "from pickle import load\n",
    "from keras.preprocessing.text import Tokenizer\n",
    "from keras.preprocessing.sequence import pad_sequences\n",
    "from keras.models import load_model\n",
    "from nltk.translate.bleu_score import corpus_bleu\n",
    "\n",
    "def load_set(filename):\n",
    "    doc = load_doc(filename)\n",
    "    dataset = list()\n",
    "    # process line by line\n",
    "    for line in doc.split('\\n'):\n",
    "        # skip empty lines\n",
    "        if len(line) < 1:\n",
    "            continue\n",
    "        # get the image identifier\n",
    "        identifier = line.split('.')[0]\n",
    "        dataset.append(identifier)\n",
    "    return set(dataset)\n",
    "\n",
    "# map an integer to a word\n",
    "def word_for_id(integer, tokenizer):\n",
    "    for word, index in tokenizer.word_index.items():\n",
    "        if index == integer:\n",
    "            return word\n",
    "    return None\n",
    "\n",
    "# generate a description for an image\n",
    "def generate_desc(model, tokenizer, photo, max_length):\n",
    "    # seed the generation process\n",
    "    in_text = 'startseq'\n",
    "    # iterate over the whole length of the sequence\n",
    "    for i in range(max_length):\n",
    "        # integer encode input sequence\n",
    "        sequence = tokenizer.texts_to_sequences([in_text])[0]\n",
    "        # pad input\n",
    "        sequence = pad_sequences([sequence], maxlen=max_length)\n",
    "        # predict next word\n",
    "        yhat = model.predict([photo,sequence], verbose=0)\n",
    "        # convert probability to integer\n",
    "        yhat = argmax(yhat)\n",
    "        # map integer to word\n",
    "        word = word_for_id(yhat, tokenizer)\n",
    "        # stop if we cannot map the word\n",
    "        if word is None:\n",
    "            break\n",
    "        # append as input for generating the next word\n",
    "        in_text += ' ' + word\n",
    "        # stop if we predict the end of the sequence\n",
    "        if word == 'endseq':\n",
    "            break\n",
    "    return in_text\n"
   ]
  },
  {
   "cell_type": "code",
   "execution_count": 15,
   "id": "XdZWxxcHULkq",
   "metadata": {
    "id": "XdZWxxcHULkq"
   },
   "outputs": [
    {
     "name": "stdout",
     "output_type": "stream",
     "text": [
      "Vocabulary Size: 7579\n",
      "Description Length: 34\n",
      "Dataset: 1000\n",
      "Descriptions: test=1000\n",
      "Photos: test=1000\n",
      "BLEU-1: 0.493402\n",
      "BLEU-2: 0.253139\n",
      "BLEU-3: 0.163928\n",
      "BLEU-4: 0.069253\n"
     ]
    }
   ],
   "source": [
    "# evaluate the skill of the model\n",
    "def evaluate_model(model, descriptions, photos, tokenizer, max_length):\n",
    "    actual, predicted = list(), list()\n",
    "    # step over the whole se\n",
    "    for key, desc_list in descriptions.items():\n",
    "        # generate description\n",
    "        yhat = generate_desc(model, tokenizer, photos[key], max_length)\n",
    "        # store actual and predicted\n",
    "        references = [d.split() for d in desc_list]\n",
    "        actual.append(references)\n",
    "        predicted.append(yhat.split())\n",
    "    # calculate BLEU score\n",
    "    print('BLEU-1: %f' % corpus_bleu(actual, predicted, weights=(1.0, 0, 0, 0)))\n",
    "    print('BLEU-2: %f' % corpus_bleu(actual, predicted, weights=(0.5, 0.5, 0, 0)))\n",
    "    print('BLEU-3: %f' % corpus_bleu(actual, predicted, weights=(0.3, 0.3, 0.3, 0)))\n",
    "    print('BLEU-4: %f' % corpus_bleu(actual, predicted, weights=(0.25, 0.25, 0.25, 0.25)))\n",
    "\n",
    "\n",
    "# prepare tokenizer\n",
    "tokenizer = create_tokenizer(train_descriptions)\n",
    "vocab_size = len(tokenizer.word_index) + 1\n",
    "print('Vocabulary Size: %d' % vocab_size)\n",
    "# determine the maximum sequence length\n",
    "maxlength = max_length(train_descriptions)\n",
    "print('Description Length: %d' % maxlength)\n",
    "\n",
    "# prepare test set\n",
    "\n",
    "# load test set\n",
    "filename = 'Flickr8k_text/Flickr_8k.testImages.txt'\n",
    "test = load_set(filename)\n",
    "print('Dataset: %d' % len(test))\n",
    "# descriptions\n",
    "test_descriptions = load_clean_descriptions('descriptions.txt', test)\n",
    "print('Descriptions: test=%d' % len(test_descriptions))\n",
    "# photo features\n",
    "test_features = load_features(test)\n",
    "print('Photos: test=%d' % len(test_features))\n",
    "\n",
    "# load the model which has minimum loss, in this case it was model_18\n",
    "filename = 'model_19.h5'\n",
    "model = load_model(filename)\n",
    "# evaluate model\n",
    "evaluate_model(model, test_descriptions, test_features, tokenizer, maxlength)"
   ]
  },
  {
   "cell_type": "markdown",
   "id": "systematic-capital",
   "metadata": {},
   "source": [
    "### Generate Captions for a Fresh Image\n"
   ]
  },
  {
   "cell_type": "code",
   "execution_count": 10,
   "id": "derived-slovak",
   "metadata": {},
   "outputs": [
    {
     "name": "stdout",
     "output_type": "stream",
     "text": [
      "startseq man in black shirt is standing next to crowd of people endseq\n"
     ]
    },
    {
     "data": {
      "image/png": "[encoded data removed]",
      "text/plain": [
       "<Figure size 432x288 with 1 Axes>"
      ]
     },
     "metadata": {
      "needs_background": "light"
     },
     "output_type": "display_data"
    }
   ],
   "source": [
    "\n",
    "from pickle import load\n",
    "from numpy import argmax\n",
    "from keras.preprocessing.sequence import pad_sequences\n",
    "from keras.applications.vgg16 import VGG16\n",
    "from keras.preprocessing.image import load_img\n",
    "from keras.preprocessing.image import img_to_array\n",
    "from keras.applications.vgg16 import preprocess_input\n",
    "from keras.models import Model\n",
    "from keras.models import load_model\n",
    "import matplotlib.pyplot as plt\n",
    "import matplotlib.image as mpimg\n",
    "\n",
    "\n",
    "# extract features from each photo in the directory\n",
    "def extract_features(filename):\n",
    "    # load the model\n",
    "    model = VGG16()\n",
    "    # re-structure the model\n",
    "    model = Model(inputs=model.inputs, outputs=model.layers[-2].output)\n",
    "    # extract features from each photo\n",
    "    features = dict()\n",
    "    # load the photo\n",
    "    image = load_img(filename, target_size=(224, 224))\n",
    "    # convert the image pixels to a numpy array\n",
    "    image = img_to_array(image)\n",
    "    # reshape data for the model\n",
    "    image = image.reshape((1, image.shape[0], image.shape[1], image.shape[2]))\n",
    "    # prepare the image for the VGG model\n",
    "    image = preprocess_input(image)\n",
    "    # get features\n",
    "    feature = model.predict(image, verbose=0)\n",
    "    return feature\n",
    "\n",
    "# load the tokenizer\n",
    "tokenizer = load(open('tokenizer.pkl', 'rb'))\n",
    "# pre-define the max sequence length (from training)\n",
    "max_length = 34\n",
    "# load the model\n",
    "model = load_model('model_18.h5')\n",
    "# load and prepare the photograph\n",
    "img = mpimg.imread('Sample_images/Demo.jpg')\n",
    "imgplot = plt.imshow(img)\n",
    "photo = extract_features('Sample_images/Demo.jpg')\n",
    "# generate description\n",
    "description = generate_desc(model, tokenizer, photo, max_length)\n",
    "print(description)"
   ]
  },
  {
   "cell_type": "markdown",
   "id": "vanilla-onion",
   "metadata": {},
   "source": [
    "Removing startseq and endseq \n"
   ]
  },
  {
   "cell_type": "code",
   "execution_count": 51,
   "id": "industrial-villa",
   "metadata": {},
   "outputs": [
    {
     "name": "stdout",
     "output_type": "stream",
     "text": [
      "dog is running through the snow\n"
     ]
    }
   ],
   "source": [
    "query = description\n",
    "stopwords = ['startseq','endseq']\n",
    "querywords = query.split()\n",
    "\n",
    "resultwords  = [word for word in querywords if word.lower() not in stopwords]\n",
    "result = ' '.join(resultwords)\n",
    "\n",
    "print(result)"
   ]
  },
  {
   "cell_type": "code",
   "execution_count": 33,
   "id": "portable-lawsuit",
   "metadata": {},
   "outputs": [],
   "source": [
    "import pyttsx3\n",
    "engine = pyttsx3.init()\n",
    "engine.say(\"I will speak this text\")\n",
    "engine.runAndWait()\n",
    "# We can use file extension as mp3 and wav, both will work\n",
    "engine.save_to_file(\"I will speak this text\", 'speech.wav')\n",
    "  \n",
    "# Wait until above command is not finished.\n",
    "engine.runAndWait()\n"
   ]
  },
  {
   "cell_type": "code",
   "execution_count": 2,
   "id": "express-musician",
   "metadata": {},
   "outputs": [],
   "source": [
    "from ecapture import ecapture as ec\n",
    "\n",
    "ec.delay_imcapture(0,\"Window\",\"Demo.jpg\",5)\n"
   ]
  },
  {
   "cell_type": "code",
   "execution_count": 11,
   "id": "sized-mailing",
   "metadata": {},
   "outputs": [],
   "source": [
    "def takeCommand():\n",
    "     \n",
    "    r = sr.Recognizer()\n",
    "     \n",
    "    with sr.Microphone() as source:\n",
    "         \n",
    "        print(\"Listening...\")\n",
    "        r.pause_threshold = 1\n",
    "        audio = r.listen(source)\n",
    "  \n",
    "    try:\n",
    "        print(\"Recognizing...\")   \n",
    "        query = r.recognize_google(audio, language ='en-in')\n",
    "        print(f\"User said: {query}\\n\")\n",
    "  \n",
    "    except Exception as e:\n",
    "        print(e)   \n",
    "        print(\"Unable to Recognize your voice.\") \n",
    "        return \"None\"\n",
    "     \n",
    "    return query"
   ]
  },
  {
   "cell_type": "code",
   "execution_count": 18,
   "id": "quarterly-desert",
   "metadata": {},
   "outputs": [],
   "source": [
    "import pyttsx3\n",
    "def speak(audio):\n",
    "    engine = pyttsx3.init()\n",
    "\n",
    "    engine.say(audio)\n",
    "    engine.runAndWait()"
   ]
  },
  {
   "cell_type": "code",
   "execution_count": 26,
   "id": "southern-provincial",
   "metadata": {
    "scrolled": true
   },
   "outputs": [
    {
     "name": "stdout",
     "output_type": "stream",
     "text": [
      "Listening...\n",
      "Recognizing...\n",
      "User said: what do you see\n",
      "\n",
      "man in black shirt is standing next to an audience\n"
     ]
    },
    {
     "data": {
      "image/png": "[encoded data removed]",
      "text/plain": [
       "<Figure size 432x288 with 1 Axes>"
      ]
     },
     "metadata": {
      "needs_background": "light"
     },
     "output_type": "display_data"
    }
   ],
   "source": [
    "import speech_recognition as sr\n",
    "\n",
    "query = takeCommand().lower()\n",
    "\n",
    "if query == \"what do you see\":\n",
    "#     ec.delay_imcapture(0,False,\"test3.jpg\",5)\n",
    "    img = mpimg.imread('test5.jpeg')\n",
    "    imgplot = plt.imshow(img)\n",
    "    photo = extract_features('test5.jpeg')\n",
    "    # generate description\n",
    "    description = generate_desc(model, tokenizer, photo, max_length)\n",
    "    query1 = description\n",
    "    stopwords = ['startseq','endseq']\n",
    "    querywords = query1.split()\n",
    "\n",
    "    resultwords  = [word for word in querywords if word.lower() not in stopwords]\n",
    "    result = ' '.join(resultwords)\n",
    "    speak(result)\n",
    "    print(result)\n",
    "    \n",
    "\n",
    "\n",
    "    "
   ]
  },
  {
   "cell_type": "code",
   "execution_count": 35,
   "id": "atlantic-singer",
   "metadata": {},
   "outputs": [],
   "source": [
    "from playsound import playsound\n",
    "playsound('speech.wav')"
   ]
  },
  {
   "cell_type": "markdown",
   "id": "quarterly-teacher",
   "metadata": {},
   "source": [
    "## Our model is now ready for deployment"
   ]
  }
 ],
 "metadata": {
  "accelerator": "GPU",
  "colab": {
   "collapsed_sections": [],
   "name": "Untitled1.ipynb",
   "provenance": [],
   "toc_visible": true
  },
  "kernelspec": {
   "display_name": "Python 3",
   "language": "python",
   "name": "python3"
  },
  "language_info": {
   "codemirror_mode": {
    "name": "ipython",
    "version": 3
   },
   "file_extension": ".py",
   "mimetype": "text/x-python",
   "name": "python",
   "nbconvert_exporter": "python",
   "pygments_lexer": "ipython3",
   "version": "3.7.9"
  }
 },
 "nbformat": 4,
 "nbformat_minor": 5
}
